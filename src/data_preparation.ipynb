{
 "cells": [
  {
   "cell_type": "code",
   "execution_count": 2,
   "metadata": {
    "collapsed": true
   },
   "outputs": [
    {
     "data": {
      "text/plain": [
       "13647309"
      ]
     },
     "execution_count": 2,
     "metadata": {},
     "output_type": "execute_result"
    }
   ],
   "source": [
    "from pyspark import SparkContext\n",
    "from pyspark.sql import SparkSession\n",
    "\n",
    "from santander import spark_functions as sf\n",
    "\n",
    "\n",
    "sc = SparkContext(\"local[3]\", \"test\")\n",
    "spark = SparkSession(sc)\n",
    "\n",
    "df = sf.load_data(spark)\n",
    "\n",
    "df.count()\n",
    "\n",
    "\n"
   ]
  },
  {
   "cell_type": "code",
   "execution_count": 5,
   "metadata": {},
   "outputs": [
    {
     "data": {
      "text/plain": [
       "DataFrame[summary: string, ncodpers: string, ind_empleado: string, pais_residencia: string, sexo: string, age: string, ind_nuevo: string, antiguedad: string, indrel: string, indrel_1mes: string, tiprel_1mes: string, indresi: string, indext: string, conyuemp: string, canal_entrada: string, indfall: string, tipodom: string, cod_prov: string, nomprov: string, ind_actividad_cliente: string, renta: string, segmento: string, ind_ahor_fin_ult1: string, ind_aval_fin_ult1: string, ind_cco_fin_ult1: string, ind_cder_fin_ult1: string, ind_cno_fin_ult1: string, ind_ctju_fin_ult1: string, ind_ctma_fin_ult1: string, ind_ctop_fin_ult1: string, ind_ctpp_fin_ult1: string, ind_deco_fin_ult1: string, ind_deme_fin_ult1: string, ind_dela_fin_ult1: string, ind_ecue_fin_ult1: string, ind_fond_fin_ult1: string, ind_hip_fin_ult1: string, ind_plan_fin_ult1: string, ind_pres_fin_ult1: string, ind_reca_fin_ult1: string, ind_tjcr_fin_ult1: string, ind_valo_fin_ult1: string, ind_viv_fin_ult1: string, ind_nomina_ult1: string, ind_nom_pens_ult1: string, ind_recibo_ult1: string]"
      ]
     },
     "execution_count": 5,
     "metadata": {},
     "output_type": "execute_result"
    }
   ],
   "source": [
    "df.describe()"
   ]
  },
  {
   "cell_type": "code",
   "execution_count": 10,
   "metadata": {},
   "outputs": [
    {
     "data": {
      "text/plain": [
       "956645"
      ]
     },
     "execution_count": 10,
     "metadata": {},
     "output_type": "execute_result"
    }
   ],
   "source": [
    "df.select(\"ncodpers\").distinct().count()\n",
    "\n"
   ]
  },
  {
   "cell_type": "code",
   "execution_count": null,
   "metadata": {},
   "outputs": [],
   "source": []
  }
 ],
 "metadata": {
  "kernelspec": {
   "display_name": "Python 2",
   "language": "python",
   "name": "python2"
  },
  "language_info": {
   "codemirror_mode": {
    "name": "ipython",
    "version": 2
   },
   "file_extension": ".py",
   "mimetype": "text/x-python",
   "name": "python",
   "nbconvert_exporter": "python",
   "pygments_lexer": "ipython2",
   "version": "2.7.6"
  }
 },
 "nbformat": 4,
 "nbformat_minor": 0
}
